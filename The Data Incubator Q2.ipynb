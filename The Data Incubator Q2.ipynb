{
 "cells": [
  {
   "cell_type": "code",
   "execution_count": 9,
   "metadata": {
    "ExecuteTime": {
     "end_time": "2019-05-06T16:46:38.586343Z",
     "start_time": "2019-05-06T16:46:38.577860Z"
    }
   },
   "outputs": [
    {
     "name": "stdout",
     "output_type": "stream",
     "text": [
      "No. of Sub Sequences:\n",
      "7\n"
     ]
    }
   ],
   "source": [
    "#Q2 -Find The number of valid sequences \n",
    "\n",
    "import math \n",
    "\n",
    "def FindSeq(n,k,j):\n",
    "    if n<3 :\n",
    "        print(\"No. of Sub Sequences:\")\n",
    "        print(\"0\")\n",
    "        return\n",
    "    if n == 3:\n",
    "        count = k-2\n",
    "        print(\"No. of Sub Sequences:\")\n",
    "        print(count)\n",
    "        return\n",
    "    else:\n",
    "        count = ((k-1)**(n-4))*((k-2)**2+k-1)\n",
    "        count = count  % (10**10+7)\n",
    "        print(\"No. of Sub Sequences:\")\n",
    "        print(count)\n",
    "        return\n",
    "    \n",
    "FindSeq(4,4,2)\n",
    "    \n",
    "\n"
   ]
  },
  {
   "cell_type": "code",
   "execution_count": null,
   "metadata": {},
   "outputs": [],
   "source": [
    "n=347, k=2281, and j=829?\n",
    "n=1.26⋅106, k=4.17⋅106, and j=1?\n",
    "n=107, k=1012, and j=829?"
   ]
  },
  {
   "cell_type": "code",
   "execution_count": null,
   "metadata": {},
   "outputs": [],
   "source": []
  },
  {
   "cell_type": "code",
   "execution_count": null,
   "metadata": {},
   "outputs": [],
   "source": []
  }
 ],
 "metadata": {
  "kernelspec": {
   "display_name": "Python 3",
   "language": "python",
   "name": "python3"
  },
  "language_info": {
   "codemirror_mode": {
    "name": "ipython",
    "version": 3
   },
   "file_extension": ".py",
   "mimetype": "text/x-python",
   "name": "python",
   "nbconvert_exporter": "python",
   "pygments_lexer": "ipython3",
   "version": "3.7.0"
  },
  "toc": {
   "base_numbering": 1,
   "nav_menu": {},
   "number_sections": true,
   "sideBar": true,
   "skip_h1_title": false,
   "title_cell": "Table of Contents",
   "title_sidebar": "Contents",
   "toc_cell": false,
   "toc_position": {},
   "toc_section_display": true,
   "toc_window_display": false
  }
 },
 "nbformat": 4,
 "nbformat_minor": 2
}
