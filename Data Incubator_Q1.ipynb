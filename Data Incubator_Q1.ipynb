{
 "cells": [
  {
   "cell_type": "code",
   "execution_count": 18,
   "metadata": {},
   "outputs": [],
   "source": [
    "import pandas as pd\n",
    "\n",
    "NPYD_collions = pd.read_csv('NYPD_Motor_Vehicle_Collisions.csv',delimiter = ',')"
   ]
  },
  {
   "cell_type": "code",
   "execution_count": 26,
   "metadata": {},
   "outputs": [],
   "source": [
    "NYPD_df = pd.DataFrame(NPYD_collions)"
   ]
  },
  {
   "cell_type": "code",
   "execution_count": 420,
   "metadata": {},
   "outputs": [],
   "source": [
    "#Q1\n",
    "\n",
    "NYPD_df = NYPD_df.set_index(NYPD_df['UNIQUE KEY'])\n",
    "\n",
    "NYPD_df[(NYPD_df['DATE']<'01/01/2019')]\n",
    "\n",
    "NYPD_df_unique = NYPD_df.drop_duplicates(keep='first')\n"
   ]
  },
  {
   "cell_type": "code",
   "execution_count": 131,
   "metadata": {},
   "outputs": [
    {
     "name": "stdout",
     "output_type": "stream",
     "text": [
      "NUMBER OF PERSONS INJURED    38593\n",
      "dtype: float64\n"
     ]
    }
   ],
   "source": [
    "NYPD_df_q1_1 = NYPD_df_unique[['NUMBER OF PERSONS INJURED']].sum()\n",
    "\n",
    "pd.set_option('precision', 0)\n",
    "\n",
    "print(NYPD_df_q1)"
   ]
  },
  {
   "cell_type": "code",
   "execution_count": 159,
   "metadata": {},
   "outputs": [
    {
     "name": "stdout",
     "output_type": "stream",
     "text": [
      "0.3096198006\n"
     ]
    }
   ],
   "source": [
    "#Q2\n",
    "NYPD_df_unique['DATE'] = pd.to_datetime(NYPD_df_unique['DATE'])\n",
    "\n",
    "NYPD_df_q2=NYPD_df_unique[(NYPD_df_unique['DATE']>'2015-12-31') & (NYPD_df_unique['DATE']<'2017-01-01')]\n",
    "\n",
    "NYPD_df_q2=NYPD_df_q2[NYPD_df_q2['BOROUGH'].notnull()]\n",
    "\n",
    "NYPD_df_q2_b = NYPD_df_q2[NYPD_df_q2['BOROUGH']=='BROOKLYN']\n",
    "\n",
    "Q2_Ratio = NYPD_df_q2_b['UNIQUE KEY'].count()/NYPD_df_q2['UNIQUE KEY'].count()\n",
    "\n",
    "print(Q2_Ratio.round(10))\n"
   ]
  },
  {
   "cell_type": "code",
   "execution_count": 158,
   "metadata": {},
   "outputs": [
    {
     "name": "stdout",
     "output_type": "stream",
     "text": [
      "0.0216548369\n"
     ]
    }
   ],
   "source": [
    "#Q3\n",
    "NYPD_df_q3=NYPD_df_unique[(NYPD_df_unique['DATE']>'2015-12-31') & (NYPD_df_unique['DATE']<'2017-01-01')]\n",
    "\n",
    "NYPD_df_q3_cyc = NYPD_df_q3[(NYPD_df_q3['NUMBER OF CYCLIST INJURED']!=0 )| (NYPD_df_q3['NUMBER OF CYCLIST KILLED']!=0)]\n",
    "\n",
    "Q3_Ratio = NYPD_df_q3_cyc['UNIQUE KEY'].count()/NYPD_df_q3['UNIQUE KEY'].count()\n",
    "\n",
    "print(Q3_Ratio.round(10))\n"
   ]
  },
  {
   "cell_type": "code",
   "execution_count": 266,
   "metadata": {},
   "outputs": [
    {
     "name": "stdout",
     "output_type": "stream",
     "text": [
      "0.0002133065\n"
     ]
    }
   ],
   "source": [
    "#Q4: For each borough, compute the number of accidents per capita involving alcohol in 2017.\n",
    "'''\n",
    "Step 1: Data Prep\n",
    "Found out records:in 2017, BOROUGH is not null, contributing factor is \"Alcohol Involvement\"\n",
    "'''\n",
    "NYPD_df_unique['DATE'] = pd.to_datetime(NYPD_df_unique['DATE'])\n",
    "\n",
    "NYPD_df_q4=NYPD_df_unique[(NYPD_df_unique['DATE']>'2016-12-31') & (NYPD_df_unique['DATE']<'2018-01-01')].copy()\n",
    "\n",
    "NYPD_df_q4=NYPD_df_q4[NYPD_df_q4['BOROUGH'].notnull()]\n",
    "\n",
    "NYPD_df_q4_ach = NYPD_df_q4[(NYPD_df_q4['CONTRIBUTING FACTOR VEHICLE 1']=='Alcohol Involvement')]\n",
    "\n",
    "'''\n",
    "Step 2 Grouping\n",
    "Group records by BOROUGH, adding Population to grouped dataset\n",
    "'''\n",
    "NYPD_df_q4_ach = NYPD_df_q4_ach.groupby(['BOROUGH']).count()\n",
    "\n",
    "BOROUGH_POP = pd.DataFrame ({'BOROUGH':['BRONX','BROOKLYN','MANHATTAN','QUEENS','STATEN ISLAND'],\n",
    "                             'POP':[1471160,2648771,1664727,2358582,479458]})\n",
    "\n",
    "NYPD_df_q4_ach = NYPD_df_q4_ach.join(BOROUGH_POP.set_index('BOROUGH'), on ='BOROUGH')\n",
    "\n",
    "'''\n",
    "Step 3 Calc\n",
    "Calculate Achohol Involed Accidents per Capita, find the highest rate BOROUGH\n",
    "Print highest rate BOROUGH\n",
    "'''\n",
    "\n",
    "NYPD_df_q4_ach['r']= NYPD_df_q4_ach['UNIQUE KEY']/NYPD_df_q4_ach['POP']\n",
    "\n",
    "NYPD_df_q4_result = NYPD_df_q4_ach['r'].max()\n",
    "\n",
    "print(NYPD_df_q4_result.round(10))\n"
   ]
  },
  {
   "cell_type": "code",
   "execution_count": 265,
   "metadata": {},
   "outputs": [
    {
     "name": "stdout",
     "output_type": "stream",
     "text": [
      "5703.0\n"
     ]
    }
   ],
   "source": [
    "#Q5: Obtain the number of vehicles involved in each collision in 2016.\n",
    "'''\n",
    "Step 1 Data Cleaning\n",
    "Get records in 2016\n",
    "'''\n",
    "NYPD_df_q5=NYPD_df_unique[(NYPD_df_unique['DATE']>'2015-12-31') & (NYPD_df_unique['DATE']<'2017-01-01')].copy()\n",
    "\n",
    "'''\n",
    "Step 2 Cars Count\n",
    "Find cars related columns, stack, and count cars in Unique Key\n",
    "'''\n",
    "NYPD_df_q5_car= NYPD_df_q5.copy()\n",
    "\n",
    "NYPD_df_q5_car.drop(NYPD_df_q5_car.columns[[0,1,2,3,4,5,6,7,8,9,10,11,12,13,14,15,16,17,18,19,20,21,22,23]],axis =1, inplace = True)\n",
    "\n",
    "car = NYPD_df_q5_car.stack()\n",
    "\n",
    "car = pd.DataFrame(car.groupby(['UNIQUE KEY']).count())\n",
    "car.columns = ['CARS']\n",
    "\n",
    "'''\n",
    "Step 3 Find car count by zipcode\n",
    "Join Main record with Car Count\n",
    "Groupby Zipcode and sum car count\n",
    "print max\n",
    "'''\n",
    "\n",
    "NYPD_df_q5 = NYPD_df_q5.join(car)\n",
    "\n",
    "NYPD_df_q5=NYPD_df_q5.groupby(['ZIP CODE'])['CARS'].agg('sum')\n",
    "\n",
    "result = NYPD_df_q5.max()\n",
    "\n",
    "print(result)\n",
    "\n",
    "\n"
   ]
  },
  {
   "cell_type": "code",
   "execution_count": 288,
   "metadata": {},
   "outputs": [
    {
     "name": "stdout",
     "output_type": "stream",
     "text": [
      "6448.1714285721\n"
     ]
    }
   ],
   "source": [
    "#Q6：Year- Collisions Linear regression\n",
    "\n",
    "\n",
    "'''\n",
    "Step 1 Data Prep\n",
    "Find records 2013-2018, covert date into year\n",
    "'''\n",
    "\n",
    "import numpy as np\n",
    "\n",
    "NYPD_df_q6= NYPD_df_unique[(NYPD_df_unique['DATE']>'2012-12-31') & (NYPD_df_unique['DATE']<'2019-01-01')].copy()\n",
    "\n",
    "NYPD_df_q6['YEAR'] = NYPD_df_q6['DATE'].dt.year\n",
    "\n",
    "NYPD_df_q6.drop(NYPD_df_q6.columns[[0,1,2,3,4,5,6,7,8,9,10,11,12,13,14,15,16,17,18,19,20,21,22,24,25,26,27,28]],axis =1, inplace = True)\n",
    "\n",
    "'''\n",
    "Step 2 Sum Data\n",
    "Convert data into year- count of collisions\n",
    "'''\n",
    "NYPD_df_q6=NYPD_df_q6.groupby(['YEAR']).count()\n",
    "\n",
    "NYPD_df_q6['Y']= NYPD_df_q6.index\n",
    "\n",
    "'''\n",
    "Step 3 Slope\n",
    "Calc slope use numpy\n",
    "'''\n",
    "slopes = NYPD_df_q6.apply(lambda x: np.polyfit(NYPD_df_q6['Y'],NYPD_df_q6['UNIQUE KEY'],1)[0])\n",
    "\n",
    "print(slopes[0].round(10))"
   ]
  },
  {
   "cell_type": "code",
   "execution_count": 350,
   "metadata": {},
   "outputs": [
    {
     "name": "stdout",
     "output_type": "stream",
     "text": [
      "          RATE\n",
      "MONTH         \n",
      "1      0.35394\n",
      "2      0.06492\n",
      "3      0.04753\n",
      "4      0.05334\n",
      "5      0.05406\n",
      "6      0.05400\n",
      "7      0.05512\n",
      "8      0.05519\n",
      "9      0.05851\n",
      "10     0.05772\n",
      "11     0.05981\n",
      "12     0.06016\n",
      "RATE    1.6633\n",
      "dtype: float64\n"
     ]
    }
   ],
   "source": [
    "#Q7：Winter Driving\n",
    "\n",
    "'''\n",
    "Step 1 Data Prep\n",
    "Find records in 2017, convert dates into month\n",
    "'''\n",
    "\n",
    "NYPD_df_q7= NYPD_df_unique[(NYPD_df_unique['DATE']>'2016-12-31') & (NYPD_df_unique['DATE']<'2018-01-01')].copy()\n",
    "\n",
    "NYPD_df_q7['MONTH'] = NYPD_df_q7['DATE'].dt.month\n",
    "\n",
    "'''\n",
    "Step 2 Multi Vehicle Collisions\n",
    "Find out all records with 3 or more cars - if VEHICLE TYPE CODE 3 is not null\n",
    "Group all collisions by month\n",
    "Group Multi Vehicle Collisions by month\n",
    "'''\n",
    "\n",
    "NYPD_df_q7_multi = NYPD_df_q7[NYPD_df_q7['VEHICLE TYPE CODE 3'].notnull()].copy()\n",
    "NYPD_df_q7.drop(NYPD_df_q7.columns[[0,1,2,3,4,5,6,7,8,9,10,11,12,13,14,15,16,17,18,19,20,21,22,24,25,26,27,28]],axis =1, inplace = True)\n",
    "NYPD_df_q7_multi.drop(NYPD_df_q7_multi.columns[[0,1,2,3,4,5,6,7,8,9,10,11,12,13,14,15,16,17,18,19,20,21,22,24,25,26,27,28]],axis =1, inplace = True)\n",
    "\n",
    "\n",
    "NYPD_df_q7=NYPD_df_q7.groupby(['MONTH']).count()\n",
    "\n",
    "NYPD_df_q7_multi = NYPD_df_q7_multi.groupby(['MONTH']).count()\n",
    "\n",
    "\n",
    "'''\n",
    "Step 3 Multi Vehicle Collisions Rate Calculation\n",
    "Join main table and multi vehicle collisions table, calculate rate by month\n",
    "'''\n",
    "\n",
    "NYPD_df_q7_multi['COUNT'] = NYPD_df_q7_multi['UNIQUE KEY']\n",
    "\n",
    "NYPD_df_q7_multi.drop(NYPD_df_q7_multi.columns[[0]],axis =1, inplace = True)\n",
    "\n",
    "NYPD_df_q7 = NYPD_df_q7.join(NYPD_df_q7_multi)\n",
    "\n",
    "NYPD_df_q7['RATE'] = NYPD_df_q7['COUNT']/NYPD_df_q7['UNIQUE KEY']\n",
    "\n",
    "NYPD_df_q7.drop(NYPD_df_q7.columns[[0,1]],axis =1, inplace = True)\n",
    "\n",
    "print(NYPD_df_q7)\n",
    "\n",
    "\n",
    "'''\n",
    "Step 3 Calculate chi_squared_stat\n",
    "'''\n",
    "\n",
    "chi_squared_stat = (((NYPD_df_q7.loc[1,['RATE']]-NYPD_df_q7.loc[5,['RATE']])**2)/NYPD_df_q7.loc[5,['RATE']])\n",
    "\n",
    "print(chi_squared_stat.round(10))\n",
    "\n",
    "\n",
    "\n"
   ]
  },
  {
   "cell_type": "code",
   "execution_count": 418,
   "metadata": {},
   "outputs": [
    {
     "name": "stdout",
     "output_type": "stream",
     "text": [
      "          Per MileSquare\n",
      "ZIP CODE                \n",
      "10013.0        345.86687\n",
      "10022.0        334.04975\n",
      "11203.0        220.94891\n",
      "11372.0        218.75860\n",
      "10036.0        209.96594\n",
      "10065.0        209.39712\n",
      "11233.0        181.01647\n",
      "10010.0        163.83497\n",
      "11230.0        156.89706\n",
      "11235.0        146.78618\n"
     ]
    }
   ],
   "source": [
    "#Q8: For each zip code, find the highest value for collisions per square kilometer\n",
    "'''\n",
    "Step 1 Data Prep & Cleaning\n",
    "'''\n",
    "\n",
    "NYPD_df_q8= NYPD_df_unique[(NYPD_df_unique['DATE']>'2016-12-31') & (NYPD_df_unique['DATE']<'2018-01-01')].copy()\n",
    "\n",
    "NYPD_df_q8=NYPD_df_q8[NYPD_df_q8['ZIP CODE'].notnull()]\n",
    "NYPD_df_q8=NYPD_df_q8[NYPD_df_q8['LATITUDE'].notnull()]\n",
    "NYPD_df_q8=NYPD_df_q8[NYPD_df_q8['LONGITUDE'].notnull()]\n",
    "\n",
    "NYPD_df_q8=NYPD_df_q8[NYPD_df_q8['LATITUDE']>0]\n",
    "NYPD_df_q8=NYPD_df_q8[NYPD_df_q8['LONGITUDE']<0]\n",
    "\n",
    "'''\n",
    "Step 2 Each zip code LATITUDE RANGE & CENTER\n",
    "'''\n",
    "q8_lowLA = NYPD_df_q8.copy()\n",
    "\n",
    "q8_lowLA = q8_lowLA.groupby(['ZIP CODE'], sort=False)['LATITUDE'].min()\n",
    "\n",
    "q8_lowLA= pd.DataFrame(q8_lowLA)\n",
    "q8_lowLA['LowLA']=q8_lowLA['LATITUDE']\n",
    "q8_lowLA.drop(q8_lowLA.columns[[0]],axis =1, inplace = True)\n",
    "\n",
    "q8_HighLA = NYPD_df_q8.copy()\n",
    "\n",
    "q8_HighLA = q8_HighLA.groupby(['ZIP CODE'], sort=False)['LATITUDE'].max()\n",
    "\n",
    "q8_HighLA= pd.DataFrame(q8_HighLA)\n",
    "\n",
    "q8_la = q8_HighLA.join(q8_lowLA)\n",
    "\n",
    "q8_la['LaCenter'] = (q8_la['LATITUDE'] + q8_la['LowLA'])/2\n",
    "q8_la['LaRange'] = (q8_la['LATITUDE']-q8_la['LowLA'])*69+1\n",
    "\n",
    "q8_la.drop(q8_la.columns[[0,1]],axis =1, inplace = True)\n",
    "\n",
    "'''\n",
    "Step 3 Each zip code LONGITUDE RANGE & CENTER\n",
    "'''\n",
    "q8_lowLO = NYPD_df_q8.copy()\n",
    "\n",
    "q8_lowLO = q8_lowLO.groupby(['ZIP CODE'], sort=False)['LONGITUDE'].min()\n",
    "\n",
    "q8_lowLO= pd.DataFrame(q8_lowLO)\n",
    "q8_lowLO['LowLO']=q8_lowLO['LONGITUDE']\n",
    "q8_lowLO.drop(q8_lowLO.columns[[0]],axis =1, inplace = True)\n",
    "\n",
    "q8_HighLO = NYPD_df_q8.copy()\n",
    "\n",
    "q8_HighLO = q8_HighLO.groupby(['ZIP CODE'], sort=False)['LONGITUDE'].max()\n",
    "\n",
    "q8_HighLO= pd.DataFrame(q8_HighLO)\n",
    "\n",
    "q8_lo = q8_HighLO.join(q8_lowLO)\n",
    "\n",
    "q8_lo['LoCenter'] = (q8_lo['LONGITUDE'] + q8_lo['LowLO'])/2\n",
    "q8_lo['LoRange'] = (q8_lo['LONGITUDE'] - q8_lo['LowLO'])*69+1\n",
    "\n",
    "q8= q8_la.join(q8_lo)\n",
    "\n",
    "\n",
    "'''\n",
    "Step 4 Calculate Area for each zip code\n",
    "'''\n",
    "\n",
    "q8['AREA'] = q8['LaRange']*q8['LoRange']\n",
    "\n",
    "q8.drop(q8.columns[[0,1,2,3,4,5]],axis =1, inplace = True)\n",
    "\n",
    "NYPD_df_q8 = NYPD_df_q8.groupby(['ZIP CODE'])['UNIQUE KEY'].count()\n",
    "\n",
    "NYPD_df_q8=pd.DataFrame(NYPD_df_q8)\n",
    "\n",
    "NYPD_df_q8 = NYPD_df_q8.join(q8)\n",
    "\n",
    "NYPD_df_q8['Per MileSquare'] = NYPD_df_q8['UNIQUE KEY']/NYPD_df_q8['AREA']\n",
    "\n",
    "'''\n",
    "Step 5 Print Result\n",
    "'''\n",
    "\n",
    "result = NYPD_df_q8.nlargest(10,'Per MileSquare')\n",
    "\n",
    "result.drop(result.columns[[0,1]],axis =1, inplace = True)\n",
    "\n",
    "print(result)\n",
    "\n",
    "\n",
    "\n",
    "\n",
    "\n",
    "\n",
    "\n",
    "\n",
    "\n"
   ]
  },
  {
   "cell_type": "code",
   "execution_count": null,
   "metadata": {},
   "outputs": [],
   "source": []
  }
 ],
 "metadata": {
  "kernelspec": {
   "display_name": "Python 3",
   "language": "python",
   "name": "python3"
  },
  "language_info": {
   "codemirror_mode": {
    "name": "ipython",
    "version": 3
   },
   "file_extension": ".py",
   "mimetype": "text/x-python",
   "name": "python",
   "nbconvert_exporter": "python",
   "pygments_lexer": "ipython3",
   "version": "3.7.0"
  },
  "toc": {
   "base_numbering": 1,
   "nav_menu": {},
   "number_sections": true,
   "sideBar": true,
   "skip_h1_title": false,
   "title_cell": "Table of Contents",
   "title_sidebar": "Contents",
   "toc_cell": false,
   "toc_position": {},
   "toc_section_display": true,
   "toc_window_display": false
  }
 },
 "nbformat": 4,
 "nbformat_minor": 2
}
